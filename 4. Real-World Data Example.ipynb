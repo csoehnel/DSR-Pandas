{
 "cells": [
  {
   "cell_type": "markdown",
   "metadata": {},
   "source": [
    "Here, we look at a new dataset and try to answer some questions about it."
   ]
  },
  {
   "cell_type": "code",
   "execution_count": 1,
   "metadata": {},
   "outputs": [],
   "source": [
    "import pandas as pd"
   ]
  },
  {
   "cell_type": "code",
   "execution_count": 2,
   "metadata": {},
   "outputs": [],
   "source": [
    "df = pd.read_csv('data/iowa_liquor/Iowa_Liquor_Sales.csv', index_col=0)"
   ]
  },
  {
   "cell_type": "code",
   "execution_count": 3,
   "metadata": {},
   "outputs": [
    {
     "data": {
      "text/html": [
       "<div>\n",
       "<style scoped>\n",
       "    .dataframe tbody tr th:only-of-type {\n",
       "        vertical-align: middle;\n",
       "    }\n",
       "\n",
       "    .dataframe tbody tr th {\n",
       "        vertical-align: top;\n",
       "    }\n",
       "\n",
       "    .dataframe thead th {\n",
       "        text-align: right;\n",
       "    }\n",
       "</style>\n",
       "<table border=\"1\" class=\"dataframe\">\n",
       "  <thead>\n",
       "    <tr style=\"text-align: right;\">\n",
       "      <th></th>\n",
       "      <th>Invoice/Item Number</th>\n",
       "      <th>Date</th>\n",
       "      <th>Store Number</th>\n",
       "      <th>Store Name</th>\n",
       "      <th>Address</th>\n",
       "      <th>City</th>\n",
       "      <th>Zip Code</th>\n",
       "      <th>Store Location</th>\n",
       "      <th>County Number</th>\n",
       "      <th>County</th>\n",
       "      <th>...</th>\n",
       "      <th>Item Number</th>\n",
       "      <th>Item Description</th>\n",
       "      <th>Pack</th>\n",
       "      <th>Bottle Volume (ml)</th>\n",
       "      <th>State Bottle Cost</th>\n",
       "      <th>State Bottle Retail</th>\n",
       "      <th>Bottles Sold</th>\n",
       "      <th>Sale (Dollars)</th>\n",
       "      <th>Volume Sold (Liters)</th>\n",
       "      <th>Volume Sold (Gallons)</th>\n",
       "    </tr>\n",
       "  </thead>\n",
       "  <tbody>\n",
       "    <tr>\n",
       "      <th>0</th>\n",
       "      <td>S29198800001</td>\n",
       "      <td>11/20/2015</td>\n",
       "      <td>2191</td>\n",
       "      <td>Keokuk Spirits</td>\n",
       "      <td>1013 MAIN</td>\n",
       "      <td>KEOKUK</td>\n",
       "      <td>52632</td>\n",
       "      <td>1013 MAIN\\nKEOKUK 52632\\n(40.39978, -91.387531)</td>\n",
       "      <td>56.0</td>\n",
       "      <td>Lee</td>\n",
       "      <td>...</td>\n",
       "      <td>297</td>\n",
       "      <td>Templeton Rye w/Flask</td>\n",
       "      <td>6</td>\n",
       "      <td>750</td>\n",
       "      <td>$18.09</td>\n",
       "      <td>$27.14</td>\n",
       "      <td>6</td>\n",
       "      <td>$162.84</td>\n",
       "      <td>4.50</td>\n",
       "      <td>1.19</td>\n",
       "    </tr>\n",
       "    <tr>\n",
       "      <th>1</th>\n",
       "      <td>S29195400002</td>\n",
       "      <td>11/21/2015</td>\n",
       "      <td>2205</td>\n",
       "      <td>Ding's Honk And Holler</td>\n",
       "      <td>900 E WASHINGTON</td>\n",
       "      <td>CLARINDA</td>\n",
       "      <td>51632</td>\n",
       "      <td>900 E WASHINGTON\\nCLARINDA 51632\\n(40.739238, ...</td>\n",
       "      <td>73.0</td>\n",
       "      <td>Page</td>\n",
       "      <td>...</td>\n",
       "      <td>297</td>\n",
       "      <td>Templeton Rye w/Flask</td>\n",
       "      <td>6</td>\n",
       "      <td>750</td>\n",
       "      <td>$18.09</td>\n",
       "      <td>$27.14</td>\n",
       "      <td>12</td>\n",
       "      <td>$325.68</td>\n",
       "      <td>9.00</td>\n",
       "      <td>2.38</td>\n",
       "    </tr>\n",
       "    <tr>\n",
       "      <th>2</th>\n",
       "      <td>S29050300001</td>\n",
       "      <td>11/16/2015</td>\n",
       "      <td>3549</td>\n",
       "      <td>Quicker Liquor Store</td>\n",
       "      <td>1414 48TH ST</td>\n",
       "      <td>FORT MADISON</td>\n",
       "      <td>52627</td>\n",
       "      <td>1414 48TH ST\\nFORT MADISON 52627\\n(40.624226, ...</td>\n",
       "      <td>56.0</td>\n",
       "      <td>Lee</td>\n",
       "      <td>...</td>\n",
       "      <td>249</td>\n",
       "      <td>Disaronno Amaretto Cavalli Mignon 3-50ml Pack</td>\n",
       "      <td>20</td>\n",
       "      <td>150</td>\n",
       "      <td>$6.40</td>\n",
       "      <td>$9.60</td>\n",
       "      <td>2</td>\n",
       "      <td>$19.20</td>\n",
       "      <td>0.30</td>\n",
       "      <td>0.08</td>\n",
       "    </tr>\n",
       "    <tr>\n",
       "      <th>3</th>\n",
       "      <td>S28867700001</td>\n",
       "      <td>11/04/2015</td>\n",
       "      <td>2513</td>\n",
       "      <td>Hy-Vee Food Store #2 / Iowa City</td>\n",
       "      <td>812  S 1ST AVE</td>\n",
       "      <td>IOWA CITY</td>\n",
       "      <td>52240</td>\n",
       "      <td>812 S 1ST AVE\\nIOWA CITY 52240\\n</td>\n",
       "      <td>52.0</td>\n",
       "      <td>Johnson</td>\n",
       "      <td>...</td>\n",
       "      <td>237</td>\n",
       "      <td>Knob Creek w/ Crystal Decanter</td>\n",
       "      <td>3</td>\n",
       "      <td>1750</td>\n",
       "      <td>$35.55</td>\n",
       "      <td>$53.34</td>\n",
       "      <td>3</td>\n",
       "      <td>$160.02</td>\n",
       "      <td>5.25</td>\n",
       "      <td>1.39</td>\n",
       "    </tr>\n",
       "    <tr>\n",
       "      <th>4</th>\n",
       "      <td>S29050800001</td>\n",
       "      <td>11/17/2015</td>\n",
       "      <td>3942</td>\n",
       "      <td>Twin Town Liquor</td>\n",
       "      <td>104 HIGHWAY 30 WEST</td>\n",
       "      <td>TOLEDO</td>\n",
       "      <td>52342</td>\n",
       "      <td>104 HIGHWAY 30 WEST\\nTOLEDO 52342\\n(41.985887,...</td>\n",
       "      <td>86.0</td>\n",
       "      <td>Tama</td>\n",
       "      <td>...</td>\n",
       "      <td>249</td>\n",
       "      <td>Disaronno Amaretto Cavalli Mignon 3-50ml Pack</td>\n",
       "      <td>20</td>\n",
       "      <td>150</td>\n",
       "      <td>$6.40</td>\n",
       "      <td>$9.60</td>\n",
       "      <td>2</td>\n",
       "      <td>$19.20</td>\n",
       "      <td>0.30</td>\n",
       "      <td>0.08</td>\n",
       "    </tr>\n",
       "  </tbody>\n",
       "</table>\n",
       "<p>5 rows × 24 columns</p>\n",
       "</div>"
      ],
      "text/plain": [
       "  Invoice/Item Number        Date  Store Number  \\\n",
       "0        S29198800001  11/20/2015          2191   \n",
       "1        S29195400002  11/21/2015          2205   \n",
       "2        S29050300001  11/16/2015          3549   \n",
       "3        S28867700001  11/04/2015          2513   \n",
       "4        S29050800001  11/17/2015          3942   \n",
       "\n",
       "                         Store Name              Address          City  \\\n",
       "0                    Keokuk Spirits            1013 MAIN        KEOKUK   \n",
       "1            Ding's Honk And Holler     900 E WASHINGTON      CLARINDA   \n",
       "2              Quicker Liquor Store         1414 48TH ST  FORT MADISON   \n",
       "3  Hy-Vee Food Store #2 / Iowa City       812  S 1ST AVE     IOWA CITY   \n",
       "4                  Twin Town Liquor  104 HIGHWAY 30 WEST        TOLEDO   \n",
       "\n",
       "  Zip Code                                     Store Location  County Number  \\\n",
       "0    52632    1013 MAIN\\nKEOKUK 52632\\n(40.39978, -91.387531)           56.0   \n",
       "1    51632  900 E WASHINGTON\\nCLARINDA 51632\\n(40.739238, ...           73.0   \n",
       "2    52627  1414 48TH ST\\nFORT MADISON 52627\\n(40.624226, ...           56.0   \n",
       "3    52240                   812 S 1ST AVE\\nIOWA CITY 52240\\n           52.0   \n",
       "4    52342  104 HIGHWAY 30 WEST\\nTOLEDO 52342\\n(41.985887,...           86.0   \n",
       "\n",
       "    County          ...           Item Number  \\\n",
       "0      Lee          ...                   297   \n",
       "1     Page          ...                   297   \n",
       "2      Lee          ...                   249   \n",
       "3  Johnson          ...                   237   \n",
       "4     Tama          ...                   249   \n",
       "\n",
       "                                Item Description  Pack Bottle Volume (ml)  \\\n",
       "0                          Templeton Rye w/Flask     6                750   \n",
       "1                          Templeton Rye w/Flask     6                750   \n",
       "2  Disaronno Amaretto Cavalli Mignon 3-50ml Pack    20                150   \n",
       "3                 Knob Creek w/ Crystal Decanter     3               1750   \n",
       "4  Disaronno Amaretto Cavalli Mignon 3-50ml Pack    20                150   \n",
       "\n",
       "   State Bottle Cost State Bottle Retail  Bottles Sold  Sale (Dollars)  \\\n",
       "0             $18.09              $27.14             6         $162.84   \n",
       "1             $18.09              $27.14            12         $325.68   \n",
       "2              $6.40               $9.60             2          $19.20   \n",
       "3             $35.55              $53.34             3         $160.02   \n",
       "4              $6.40               $9.60             2          $19.20   \n",
       "\n",
       "  Volume Sold (Liters) Volume Sold (Gallons)  \n",
       "0                 4.50                  1.19  \n",
       "1                 9.00                  2.38  \n",
       "2                 0.30                  0.08  \n",
       "3                 5.25                  1.39  \n",
       "4                 0.30                  0.08  \n",
       "\n",
       "[5 rows x 24 columns]"
      ]
     },
     "execution_count": 3,
     "metadata": {},
     "output_type": "execute_result"
    }
   ],
   "source": [
    "df.head()"
   ]
  },
  {
   "cell_type": "code",
   "execution_count": 4,
   "metadata": {},
   "outputs": [
    {
     "data": {
      "text/plain": [
       "Index(['Invoice/Item Number', 'Date', 'Store Number', 'Store Name', 'Address',\n",
       "       'City', 'Zip Code', 'Store Location', 'County Number', 'County',\n",
       "       'Category', 'Category Name', 'Vendor Number', 'Vendor Name',\n",
       "       'Item Number', 'Item Description', 'Pack', 'Bottle Volume (ml)',\n",
       "       'State Bottle Cost', 'State Bottle Retail', 'Bottles Sold',\n",
       "       'Sale (Dollars)', 'Volume Sold (Liters)', 'Volume Sold (Gallons)'],\n",
       "      dtype='object')"
      ]
     },
     "execution_count": 4,
     "metadata": {},
     "output_type": "execute_result"
    }
   ],
   "source": [
    "df.columns"
   ]
  },
  {
   "cell_type": "markdown",
   "metadata": {},
   "source": [
    "1) Which store had the highest total dollars of sales?\n",
    "    - Is this the same store that had the highest volume (in liters) of alcohol sold?"
   ]
  },
  {
   "cell_type": "code",
   "execution_count": 62,
   "metadata": {},
   "outputs": [
    {
     "name": "stdout",
     "output_type": "stream",
     "text": [
      "Store number with highest sales in Dollars: 4483.0\n",
      "Store number with highest sales in volume: 3385.0\n"
     ]
    }
   ],
   "source": [
    "#df.sort_values(by='Sale (Dollars)', ascending=False)\n",
    "print(f'Store number with highest sales in Dollars: {df.loc[df.sort_values(by=\"Sale (Dollars)\", ascending=False).index[0], \"Store Number\"]}')\n",
    "print(f'Store number with highest sales in volume: {df.loc[df.sort_values(by=\"Volume Sold (Liters)\", ascending=False).index[0], \"Store Number\"]}')"
   ]
  },
  {
   "cell_type": "markdown",
   "metadata": {},
   "source": [
    "2) Which item has the highest cost per liter?"
   ]
  },
  {
   "cell_type": "code",
   "execution_count": 120,
   "metadata": {},
   "outputs": [
    {
     "name": "stdout",
     "output_type": "stream",
     "text": [
      "Item number with highest cost per liter: 905502.0\n"
     ]
    }
   ],
   "source": [
    "df = df.replace({'\\$': ''}, regex = True)\n",
    "df['State Bottle Cost'] = df['State Bottle Cost'].astype('float')\n",
    "df['State Bottle Retail'] = df['State Bottle Retail'].astype('float')\n",
    "df['Sale (Dollars)'] = df['Sale (Dollars)'].astype('float')\n",
    "\n",
    "def helper_cost_per_liter(row):\n",
    "    cost_usd = float(row['State Bottle Cost'])#.replace('$', '').replace(',', ''))\n",
    "    volume_ml = float(row['Bottle Volume (ml)'])\n",
    "    cost_per_liter = (cost_usd / volume_ml) * 1000\n",
    "    return cost_per_liter\n",
    "\n",
    "df['Cost_Per_Liter_USD'] = df.apply(helper_cost_per_liter, axis=1)\n",
    "print(f'Item number with highest cost per liter: {df.loc[df.sort_values(by=\"Cost_Per_Liter_USD\", ascending=False).index[0], \"Item Number\"]}')"
   ]
  },
  {
   "cell_type": "markdown",
   "metadata": {},
   "source": [
    "3) What is the most common pack size?"
   ]
  },
  {
   "cell_type": "code",
   "execution_count": 64,
   "metadata": {},
   "outputs": [
    {
     "name": "stdout",
     "output_type": "stream",
     "text": [
      "Most common pack size: 12.0\n"
     ]
    }
   ],
   "source": [
    "print(f'Most common pack size: {df[\"Pack\"].value_counts().index[0]}')"
   ]
  },
  {
   "cell_type": "markdown",
   "metadata": {},
   "source": [
    "4) What is the most commonly sold item?"
   ]
  },
  {
   "cell_type": "code",
   "execution_count": 65,
   "metadata": {},
   "outputs": [
    {
     "name": "stdout",
     "output_type": "stream",
     "text": [
      "Most commonly sold item: 43337.0\n"
     ]
    }
   ],
   "source": [
    "print(f'Most commonly sold item: {df.loc[df.sort_values(by=\"Bottles Sold\", ascending=False).index[0], \"Item Number\"]}')"
   ]
  },
  {
   "cell_type": "markdown",
   "metadata": {},
   "source": [
    "5) What day in 2015 was the most money made? (Across all stores)"
   ]
  },
  {
   "cell_type": "code",
   "execution_count": 105,
   "metadata": {},
   "outputs": [
    {
     "data": {
      "text/plain": [
       "(2015.0, 3.0, 16.0)"
      ]
     },
     "execution_count": 105,
     "metadata": {},
     "output_type": "execute_result"
    }
   ],
   "source": [
    "df['Date'] = pd.to_datetime(df['Date'])\n",
    "date = df.set_index('Date')\n",
    "date.groupby([date.index.year, date.index.month, date.index.day]).sum()['Sale (Dollars)'].idxmax()"
   ]
  },
  {
   "cell_type": "markdown",
   "metadata": {},
   "source": [
    "6) Which zip code drinks the most? (in liters)"
   ]
  },
  {
   "cell_type": "code",
   "execution_count": 14,
   "metadata": {},
   "outputs": [
    {
     "name": "stdout",
     "output_type": "stream",
     "text": [
      "Zip Code that drinks the most: 52402\n"
     ]
    }
   ],
   "source": [
    "df.loc[:, 'Volume_Consumed'] = df.loc[:, 'Bottles Sold'] * df.loc[:, 'Bottle Volume (ml)']\n",
    "print(f'Zip Code that drinks the most: {df.loc[df.sort_values(by=\"Volume_Consumed\", ascending=False).index[0], \"Zip Code\"]}')\n",
    "      "
   ]
  },
  {
   "cell_type": "markdown",
   "metadata": {},
   "source": [
    "7) Does the data set contain any null values?"
   ]
  },
  {
   "cell_type": "code",
   "execution_count": 9,
   "metadata": {},
   "outputs": [
    {
     "data": {
      "text/plain": [
       "True"
      ]
     },
     "execution_count": 9,
     "metadata": {},
     "output_type": "execute_result"
    }
   ],
   "source": [
    "df.isnull().any().any()"
   ]
  },
  {
   "cell_type": "markdown",
   "metadata": {},
   "source": [
    "8) What is the average state bottle cost?\n",
    "    - Max cost?\n",
    "    - Min cost?\n",
    "    - 50%?"
   ]
  },
  {
   "cell_type": "code",
   "execution_count": 10,
   "metadata": {},
   "outputs": [
    {
     "data": {
      "text/plain": [
       "9.4551807"
      ]
     },
     "execution_count": 10,
     "metadata": {},
     "output_type": "execute_result"
    }
   ],
   "source": [
    "df['State Bottle Cost'].mean()\n",
    "#df['State Bottle Cost'].min()\n",
    "#df['State Bottle Cost'].max()\n",
    "#df['State Bottle Cost'].median()"
   ]
  },
  {
   "cell_type": "markdown",
   "metadata": {},
   "source": [
    "9) What is the total volume sold in Iowa City in 2013?"
   ]
  },
  {
   "cell_type": "code",
   "execution_count": 141,
   "metadata": {},
   "outputs": [
    {
     "data": {
      "text/plain": [
       "Date    City     \n",
       "2013.0  IOWA CITY    9063.01\n",
       "Name: Volume Sold (Liters), dtype: float64"
      ]
     },
     "execution_count": 141,
     "metadata": {},
     "output_type": "execute_result"
    }
   ],
   "source": [
    "i_c_2013 = df.groupby([date.index.year, 'City']).sum()\n",
    "i_c_2013.loc[(slice(2013,2013), slice('IOWA CITY','IOWA CITY')), 'Volume Sold (Liters)']"
   ]
  },
  {
   "cell_type": "markdown",
   "metadata": {},
   "source": [
    "10) Which month (average, across all years) sees the highest sales?"
   ]
  },
  {
   "cell_type": "code",
   "execution_count": 145,
   "metadata": {},
   "outputs": [
    {
     "data": {
      "text/plain": [
       "10.0"
      ]
     },
     "execution_count": 145,
     "metadata": {},
     "output_type": "execute_result"
    }
   ],
   "source": [
    "df.groupby([date.index.month]).sum().sort_values(by='Sale (Dollars)', ascending=False).index[0]"
   ]
  },
  {
   "cell_type": "markdown",
   "metadata": {},
   "source": [
    "11) Which item has the lowest cost per bottle in a pack?"
   ]
  },
  {
   "cell_type": "code",
   "execution_count": 41,
   "metadata": {},
   "outputs": [
    {
     "name": "stderr",
     "output_type": "stream",
     "text": [
      "/opt/conda/envs/dsr/lib/python3.6/site-packages/ipykernel_launcher.py:2: SettingWithCopyWarning: \n",
      "A value is trying to be set on a copy of a slice from a DataFrame.\n",
      "Try using .loc[row_indexer,col_indexer] = value instead\n",
      "\n",
      "See the caveats in the documentation: http://pandas.pydata.org/pandas-docs/stable/indexing.html#indexing-view-versus-copy\n",
      "  \n"
     ]
    },
    {
     "data": {
      "text/plain": [
       "'Fireball Cinnamon Whisky'"
      ]
     },
     "execution_count": 41,
     "metadata": {},
     "output_type": "execute_result"
    }
   ],
   "source": [
    "df2 = df[df['State Bottle Cost'] >= 0.01]\n",
    "df2['Cost_per_bottle'] = df2.loc[:, 'State Bottle Cost'] / df2.loc[:, 'Pack']\n",
    "df2.groupby('Item Description').min()['Cost_per_bottle'].sort_values(ascending = True).index[0]"
   ]
  },
  {
   "cell_type": "markdown",
   "metadata": {},
   "source": [
    "12) What is the most popular item at Wilkie Liquors?"
   ]
  },
  {
   "cell_type": "code",
   "execution_count": 119,
   "metadata": {},
   "outputs": [
    {
     "data": {
      "text/plain": [
       "Invoice/Item Number                                           S27711800084\n",
       "Date                                                   2015-09-03 00:00:00\n",
       "Store Number                                                          5102\n",
       "Store Name                                                  Wilkie Liquors\n",
       "Address                                                   724, 1st  ST  SE\n",
       "City                                                          MOUNT VERNON\n",
       "Zip Code                                                             52314\n",
       "Store Location           724, 1st ST SE\\nMOUNT VERNON 52314\\n(41.91776,...\n",
       "County Number                                                           57\n",
       "County                                                                Linn\n",
       "Category                                                        1.0817e+06\n",
       "Category Name                                  DISTILLED SPIRITS SPECIALTY\n",
       "Vendor Number                                                          434\n",
       "Vendor Name                                                 Luxco-St Louis\n",
       "Item Number                                                          75087\n",
       "Item Description                                           Juarez Gold Dss\n",
       "Pack                                                                    12\n",
       "Bottle Volume (ml)                                                    1000\n",
       "State Bottle Cost                                                     4.92\n",
       "State Bottle Retail                                                   7.38\n",
       "Bottles Sold                                                           780\n",
       "Sale (Dollars)                                                      5756.4\n",
       "Volume Sold (Liters)                                                   780\n",
       "Volume Sold (Gallons)                                               206.05\n",
       "Cost_Per_Liter_USD                                                    4.92\n",
       "Volume_Consumed                                                     780000\n",
       "Cost_per_bottle                                                       0.41\n",
       "Name: 85923, dtype: object"
      ]
     },
     "execution_count": 119,
     "metadata": {},
     "output_type": "execute_result"
    }
   ],
   "source": [
    "df.iloc[df[df['Store Name']=='Wilkie Liquors'].sort_values(by='Bottles Sold', ascending=False).index[0]]"
   ]
  },
  {
   "cell_type": "markdown",
   "metadata": {},
   "source": [
    "13) From which item does Wilkie Liquors earn the most of its revenue?"
   ]
  },
  {
   "cell_type": "code",
   "execution_count": 124,
   "metadata": {},
   "outputs": [
    {
     "data": {
      "text/plain": [
       "Invoice/Item Number                                           S27711800084\n",
       "Date                                                   2015-09-03 00:00:00\n",
       "Store Number                                                          5102\n",
       "Store Name                                                  Wilkie Liquors\n",
       "Address                                                   724, 1st  ST  SE\n",
       "City                                                          MOUNT VERNON\n",
       "Zip Code                                                             52314\n",
       "Store Location           724, 1st ST SE\\nMOUNT VERNON 52314\\n(41.91776,...\n",
       "County Number                                                           57\n",
       "County                                                                Linn\n",
       "Category                                                        1.0817e+06\n",
       "Category Name                                  DISTILLED SPIRITS SPECIALTY\n",
       "Vendor Number                                                          434\n",
       "Vendor Name                                                 Luxco-St Louis\n",
       "Item Number                                                          75087\n",
       "Item Description                                           Juarez Gold Dss\n",
       "Pack                                                                    12\n",
       "Bottle Volume (ml)                                                    1000\n",
       "State Bottle Cost                                                     4.92\n",
       "State Bottle Retail                                                   7.38\n",
       "Bottles Sold                                                           780\n",
       "Sale (Dollars)                                                      5756.4\n",
       "Volume Sold (Liters)                                                   780\n",
       "Volume Sold (Gallons)                                               206.05\n",
       "Cost_Per_Liter_USD                                                    4.92\n",
       "Volume_Consumed                                                     780000\n",
       "Cost_per_bottle                                                       0.41\n",
       "Name: 85923, dtype: object"
      ]
     },
     "execution_count": 124,
     "metadata": {},
     "output_type": "execute_result"
    }
   ],
   "source": [
    "df.iloc[df[df['Store Name']=='Wilkie Liquors'].sort_values(by='Sale (Dollars)', ascending=False).index[0]]"
   ]
  },
  {
   "cell_type": "markdown",
   "metadata": {},
   "source": [
    "14) Do prices for the same item differ across different stores?"
   ]
  },
  {
   "cell_type": "code",
   "execution_count": 55,
   "metadata": {},
   "outputs": [
    {
     "data": {
      "text/html": [
       "<div>\n",
       "<style scoped>\n",
       "    .dataframe tbody tr th:only-of-type {\n",
       "        vertical-align: middle;\n",
       "    }\n",
       "\n",
       "    .dataframe tbody tr th {\n",
       "        vertical-align: top;\n",
       "    }\n",
       "\n",
       "    .dataframe thead th {\n",
       "        text-align: right;\n",
       "    }\n",
       "</style>\n",
       "<table border=\"1\" class=\"dataframe\">\n",
       "  <thead>\n",
       "    <tr style=\"text-align: right;\">\n",
       "      <th></th>\n",
       "      <th>Store Name</th>\n",
       "      <th>State Bottle Cost</th>\n",
       "    </tr>\n",
       "  </thead>\n",
       "  <tbody>\n",
       "    <tr>\n",
       "      <th>124</th>\n",
       "      <td>Brothers Market, Inc.</td>\n",
       "      <td>17.75</td>\n",
       "    </tr>\n",
       "    <tr>\n",
       "      <th>129</th>\n",
       "      <td>Geno's Liquor</td>\n",
       "      <td>11.30</td>\n",
       "    </tr>\n",
       "    <tr>\n",
       "      <th>238</th>\n",
       "      <td>Hy-Vee Food Store / Cedar Falls</td>\n",
       "      <td>10.99</td>\n",
       "    </tr>\n",
       "    <tr>\n",
       "      <th>364</th>\n",
       "      <td>Pit Stop Liquor and Tobacco</td>\n",
       "      <td>5.00</td>\n",
       "    </tr>\n",
       "    <tr>\n",
       "      <th>476</th>\n",
       "      <td>LIQUOR AND GROCERY DEPOT</td>\n",
       "      <td>5.00</td>\n",
       "    </tr>\n",
       "  </tbody>\n",
       "</table>\n",
       "</div>"
      ],
      "text/plain": [
       "                          Store Name  State Bottle Cost\n",
       "124            Brothers Market, Inc.              17.75\n",
       "129                    Geno's Liquor              11.30\n",
       "238  Hy-Vee Food Store / Cedar Falls              10.99\n",
       "364      Pit Stop Liquor and Tobacco               5.00\n",
       "476         LIQUOR AND GROCERY DEPOT               5.00"
      ]
     },
     "execution_count": 55,
     "metadata": {},
     "output_type": "execute_result"
    }
   ],
   "source": [
    "df[df['Item Description'] == 'Captain Morgan Spiced Rum'][['Store Name', 'State Bottle Cost']].head()"
   ]
  },
  {
   "cell_type": "markdown",
   "metadata": {},
   "source": [
    "15) Which store sells the most liquor in the city of Des Moines?"
   ]
  },
  {
   "cell_type": "code",
   "execution_count": 126,
   "metadata": {},
   "outputs": [
    {
     "data": {
      "text/plain": [
       "Index(['Invoice/Item Number', 'Date', 'Store Number', 'Store Name', 'Address',\n",
       "       'City', 'Zip Code', 'Store Location', 'County Number', 'County',\n",
       "       'Category', 'Category Name', 'Vendor Number', 'Vendor Name',\n",
       "       'Item Number', 'Item Description', 'Pack', 'Bottle Volume (ml)',\n",
       "       'State Bottle Cost', 'State Bottle Retail', 'Bottles Sold',\n",
       "       'Sale (Dollars)', 'Volume Sold (Liters)', 'Volume Sold (Gallons)',\n",
       "       'Cost_Per_Liter_USD', 'Volume_Consumed', 'Cost_per_bottle'],\n",
       "      dtype='object')"
      ]
     },
     "execution_count": 126,
     "metadata": {},
     "output_type": "execute_result"
    }
   ],
   "source": [
    "df.columns"
   ]
  },
  {
   "cell_type": "code",
   "execution_count": 137,
   "metadata": {},
   "outputs": [
    {
     "data": {
      "text/plain": [
       "Store Name\n",
       "Hy-Vee #3 / BDI / Des Moines    24248.25\n",
       "Name: Volume Sold (Liters), dtype: float64"
      ]
     },
     "execution_count": 137,
     "metadata": {},
     "output_type": "execute_result"
    }
   ],
   "source": [
    "cities = df.groupby(['City', 'Store Name']).sum()\n",
    "cities.loc['DES MOINES', 'Volume Sold (Liters)'].sort_values(ascending=False).head(1)"
   ]
  },
  {
   "cell_type": "markdown",
   "metadata": {},
   "source": [
    "16) Make a plot about at least one of these questions:"
   ]
  },
  {
   "cell_type": "code",
   "execution_count": null,
   "metadata": {},
   "outputs": [],
   "source": []
  },
  {
   "cell_type": "code",
   "execution_count": null,
   "metadata": {},
   "outputs": [],
   "source": []
  }
 ],
 "metadata": {
  "kernelspec": {
   "display_name": "Python 3",
   "language": "python",
   "name": "python3"
  },
  "language_info": {
   "codemirror_mode": {
    "name": "ipython",
    "version": 3
   },
   "file_extension": ".py",
   "mimetype": "text/x-python",
   "name": "python",
   "nbconvert_exporter": "python",
   "pygments_lexer": "ipython3",
   "version": "3.6.8"
  }
 },
 "nbformat": 4,
 "nbformat_minor": 2
}
